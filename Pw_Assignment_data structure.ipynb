{
 "cells": [
  {
   "cell_type": "code",
   "execution_count": 2,
   "id": "3a06a5cc-86ed-48b5-a5c3-7f92a3777970",
   "metadata": {},
   "outputs": [
    {
     "data": {
      "text/plain": [
       "'\\nthis is a multi line comment\\n'"
      ]
     },
     "execution_count": 2,
     "metadata": {},
     "output_type": "execute_result"
    }
   ],
   "source": [
    "# Q1of python data structures\n",
    "# solution\n",
    "# this is a single line comment\n",
    "\"\"\"\n",
    "this is a multi line comment\n",
    "\"\"\"\n",
    "# we can also use markdown "
   ]
  },
  {
   "cell_type": "markdown",
   "id": "1ebd66a1-d414-4e20-9ad7-f7b5c877d3d0",
   "metadata": {},
   "source": [
    "#Q2\n",
    "# variables are used to store and manipulate data. They serve as containers to hold values of different types, such as numbers, strings, lists\n",
    "# we can assign variables as\n",
    "# variable_name= value\n",
    "namme=\"pwskills\"\n",
    "namme"
   ]
  },
  {
   "cell_type": "code",
   "execution_count": 4,
   "id": "f2f267fc-5593-476d-9295-253cdfcfb7c0",
   "metadata": {},
   "outputs": [
    {
     "data": {
      "text/plain": [
       "30"
      ]
     },
     "execution_count": 4,
     "metadata": {},
     "output_type": "execute_result"
    }
   ],
   "source": [
    "age=30\n",
    "age"
   ]
  },
  {
   "cell_type": "code",
   "execution_count": 5,
   "id": "08f75550-9eef-4822-b612-dfd53b62def4",
   "metadata": {},
   "outputs": [
    {
     "data": {
      "text/plain": [
       "True"
      ]
     },
     "execution_count": 5,
     "metadata": {},
     "output_type": "execute_result"
    }
   ],
   "source": [
    "bool=True\n",
    "bool"
   ]
  },
  {
   "cell_type": "code",
   "execution_count": 6,
   "id": "d3c28eef-4da3-4e16-9283-035732312208",
   "metadata": {},
   "outputs": [
    {
     "data": {
      "text/plain": [
       "10.32"
      ]
     },
     "execution_count": 6,
     "metadata": {},
     "output_type": "execute_result"
    }
   ],
   "source": [
    "flot=10.32\n",
    "flot"
   ]
  },
  {
   "cell_type": "code",
   "execution_count": null,
   "id": "efc82222-e60d-4593-b48e-3af4b8e69a1a",
   "metadata": {},
   "outputs": [],
   "source": [
    "# Q3. How do you convert one data type to another in Python?\n",
    "# we can easily convert as follows"
   ]
  },
  {
   "cell_type": "code",
   "execution_count": 8,
   "id": "c542e07f-89a1-43fe-b267-ade5a7315416",
   "metadata": {},
   "outputs": [
    {
     "data": {
      "text/plain": [
       "(1, 1, 2, 2, 3, 3, 'pwskills', 'krish', 56)"
      ]
     },
     "execution_count": 8,
     "metadata": {},
     "output_type": "execute_result"
    }
   ],
   "source": [
    "lst=[1,1,2,2,3,3,\"pwskills\",\"krish\",56]\n",
    "a=tuple(lst)\n",
    "a"
   ]
  },
  {
   "cell_type": "code",
   "execution_count": 9,
   "id": "f9529844-a3c0-4b4d-85fb-965f726b06b4",
   "metadata": {},
   "outputs": [
    {
     "data": {
      "text/plain": [
       "int"
      ]
     },
     "execution_count": 9,
     "metadata": {},
     "output_type": "execute_result"
    }
   ],
   "source": [
    "c=22\n",
    "type(c)"
   ]
  },
  {
   "cell_type": "code",
   "execution_count": 10,
   "id": "1ea7252f-709d-4e0e-a9d7-900122e81332",
   "metadata": {},
   "outputs": [
    {
     "data": {
      "text/plain": [
       "22.0"
      ]
     },
     "execution_count": 10,
     "metadata": {},
     "output_type": "execute_result"
    }
   ],
   "source": [
    "d=float(c)\n",
    "d"
   ]
  },
  {
   "cell_type": "markdown",
   "id": "ea89b9b9-67dc-42dd-823b-5647cde48580",
   "metadata": {},
   "source": [
    "Q4 How do you write and execute a Python script from the command line?\n",
    "Ans.\n",
    "open notepad or any text editor and create a new file and save it with a .py extension, such as pwskills.py\n",
    "now write the code and save the file now to go to command prompt and go to the directory with the help of cd go to the location where pwskills.py is saved and type \"python pwskills.py\" now the code will run through python interpretor"
   ]
  },
  {
   "cell_type": "code",
   "execution_count": null,
   "id": "c85cef1a-1137-4201-b0f9-2d1219030dd8",
   "metadata": {},
   "outputs": [],
   "source": [
    "Q5. Given a list my_list = [1, 2, 3, 4, 5], write the code to slice the list and obtain the sub-list [2, 3]."
   ]
  },
  {
   "cell_type": "code",
   "execution_count": 11,
   "id": "a251f82d-e957-4571-8c33-f4f1d70e7da3",
   "metadata": {},
   "outputs": [
    {
     "name": "stdout",
     "output_type": "stream",
     "text": [
      "[2, 3]\n"
     ]
    }
   ],
   "source": [
    "my_list = [1, 2, 3, 4, 5]\n",
    "sub_list = my_list[1:3]\n",
    "print(sub_list)\n"
   ]
  },
  {
   "cell_type": "markdown",
   "id": "210db192-686a-4ee9-86e1-80e845ceddc4",
   "metadata": {},
   "source": [
    "Q6. What is a complex number in mathematics, and how is it represented in Python?\n",
    "Ans. Complex number is a number that consists of both a real part and an imaginary part. It is represented as \"a + bi\", where \"a\" represents the real part and \"b\" represents the imaginary part"
   ]
  },
  {
   "cell_type": "code",
   "execution_count": 12,
   "id": "300afee1-37f7-4eaa-8be5-b54997ecfd16",
   "metadata": {},
   "outputs": [
    {
     "data": {
      "text/plain": [
       "(4+5j)"
      ]
     },
     "execution_count": 12,
     "metadata": {},
     "output_type": "execute_result"
    }
   ],
   "source": [
    "a=4+5j\n",
    "a"
   ]
  },
  {
   "cell_type": "markdown",
   "id": "304e4d66-d6ac-4f01-9c93-e7e30dbc3cd6",
   "metadata": {},
   "source": [
    "Q7. What is the correct way to declare a variable named age and assign the value 25 to it?"
   ]
  },
  {
   "cell_type": "code",
   "execution_count": 13,
   "id": "29befd87-6052-4b6d-af85-87a6526fb115",
   "metadata": {},
   "outputs": [
    {
     "name": "stdout",
     "output_type": "stream",
     "text": [
      "25\n"
     ]
    }
   ],
   "source": [
    "age=25\n",
    "print(age)"
   ]
  },
  {
   "cell_type": "markdown",
   "id": "53f3e09d-ee4f-4199-8af0-ba2a20ed017e",
   "metadata": {},
   "source": [
    "Q8. Declare a variable named price and assign the value 9.99 to it. What data type does this variable\n",
    "belong to?"
   ]
  },
  {
   "cell_type": "code",
   "execution_count": 14,
   "id": "14c5f4d3-3ad4-484a-ba3b-97d97aa49a87",
   "metadata": {},
   "outputs": [
    {
     "data": {
      "text/plain": [
       "9.99"
      ]
     },
     "execution_count": 14,
     "metadata": {},
     "output_type": "execute_result"
    }
   ],
   "source": [
    "price=9.99\n",
    "price"
   ]
  },
  {
   "cell_type": "code",
   "execution_count": 15,
   "id": "35ee0d3c-a826-4558-9924-c89cceb82c93",
   "metadata": {},
   "outputs": [
    {
     "data": {
      "text/plain": [
       "float"
      ]
     },
     "execution_count": 15,
     "metadata": {},
     "output_type": "execute_result"
    }
   ],
   "source": [
    "type(price)"
   ]
  },
  {
   "cell_type": "markdown",
   "id": "f7d287c1-5cce-40ee-9ff2-e2b724a45a93",
   "metadata": {},
   "source": [
    "Q9. Create a variable named name and assign your full name to it as a string. How would you print the\n",
    "value of this variable?"
   ]
  },
  {
   "cell_type": "code",
   "execution_count": null,
   "id": "0812317b-1851-4269-bcdb-ec5b6bad68ab",
   "metadata": {},
   "outputs": [],
   "source": [
    "name=\"Rohit Singh\""
   ]
  },
  {
   "cell_type": "code",
   "execution_count": 33,
   "id": "6f50b5db-da59-407d-92a5-781d40d5632f",
   "metadata": {},
   "outputs": [
    {
     "data": {
      "text/plain": [
       "'rohit singh'"
      ]
     },
     "execution_count": 33,
     "metadata": {},
     "output_type": "execute_result"
    }
   ],
   "source": [
    "name= \"rohit singh\"\n",
    "name"
   ]
  },
  {
   "cell_type": "markdown",
   "id": "6d403d3f-d22c-44fc-ab5a-db1c9cee91cf",
   "metadata": {},
   "source": [
    "Q10. Given the string \"Hello, World!\", extract the substring \"World\"."
   ]
  },
  {
   "cell_type": "code",
   "execution_count": 37,
   "id": "976b9100-7dae-40d9-b3cc-8a30a50d59b8",
   "metadata": {},
   "outputs": [
    {
     "data": {
      "text/plain": [
       "'World'"
      ]
     },
     "execution_count": 37,
     "metadata": {},
     "output_type": "execute_result"
    }
   ],
   "source": [
    "hw=\"Hello, World\"\n",
    "hw[7:12]"
   ]
  },
  {
   "cell_type": "markdown",
   "id": "670f295f-26e4-490f-8c8e-b3390fe574da",
   "metadata": {},
   "source": [
    "Q11. Create a variable named \"is_student\" and assign it a boolean value indicating whether you are\n",
    "currently a student or not."
   ]
  },
  {
   "cell_type": "code",
   "execution_count": null,
   "id": "afe4311b-f036-4d35-be58-4b912929cdfc",
   "metadata": {},
   "outputs": [],
   "source": [
    "is_student = True"
   ]
  },
  {
   "cell_type": "code",
   "execution_count": 1,
   "id": "34dfbbe5-0db7-4430-a28a-9939d9b1244b",
   "metadata": {},
   "outputs": [
    {
     "ename": "NameError",
     "evalue": "name 'is_student' is not defined",
     "output_type": "error",
     "traceback": [
      "\u001b[0;31m---------------------------------------------------------------------------\u001b[0m",
      "\u001b[0;31mNameError\u001b[0m                                 Traceback (most recent call last)",
      "Cell \u001b[0;32mIn[1], line 1\u001b[0m\n\u001b[0;32m----> 1\u001b[0m \u001b[38;5;28;01mif\u001b[39;00m \u001b[43mis_student\u001b[49m \u001b[38;5;241m==\u001b[39m \u001b[38;5;28;01mTrue\u001b[39;00m:\n\u001b[1;32m      2\u001b[0m     \u001b[38;5;28mprint\u001b[39m(\u001b[38;5;124m\"\u001b[39m\u001b[38;5;124mu r a student\u001b[39m\u001b[38;5;124m\"\u001b[39m)\n\u001b[1;32m      3\u001b[0m \u001b[38;5;28;01melse\u001b[39;00m:\n",
      "\u001b[0;31mNameError\u001b[0m: name 'is_student' is not defined"
     ]
    }
   ],
   "source": [
    "if is_student == True:\n",
    "    print(\"u r a student\")\n",
    "else:\n",
    "    print(\"You are not a student\")"
   ]
  },
  {
   "cell_type": "code",
   "execution_count": null,
   "id": "e20abcc7-5b4d-4379-a01e-dc4675ec9dd2",
   "metadata": {},
   "outputs": [],
   "source": []
  },
  {
   "cell_type": "code",
   "execution_count": null,
   "id": "ed80e297-6b1a-4501-8fcb-fd5ba50c4c35",
   "metadata": {},
   "outputs": [],
   "source": []
  }
 ],
 "metadata": {
  "kernelspec": {
   "display_name": "Python 3 (ipykernel)",
   "language": "python",
   "name": "python3"
  },
  "language_info": {
   "codemirror_mode": {
    "name": "ipython",
    "version": 3
   },
   "file_extension": ".py",
   "mimetype": "text/x-python",
   "name": "python",
   "nbconvert_exporter": "python",
   "pygments_lexer": "ipython3",
   "version": "3.10.8"
  }
 },
 "nbformat": 4,
 "nbformat_minor": 5
}
